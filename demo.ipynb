{
 "cells": [
  {
   "cell_type": "code",
   "execution_count": 1,
   "id": "cfb3bf70",
   "metadata": {},
   "outputs": [
    {
     "name": "stdout",
     "output_type": "stream",
     "text": [
      "✅ All LSTM components imported successfully\n",
      "🔗 Database: cb844ee7-37f7-453e-9ece-e0720040b3df\n",
      "🌍 Region: us-east1\n",
      "🔑 Keyspace: memory_db\n"
     ]
    }
   ],
   "source": [
    "# Cell 1: Environment and Imports\n",
    "import os\n",
    "import sys\n",
    "from dotenv import load_dotenv\n",
    "\n",
    "# Add project to path\n",
    "sys.path.append('.')\n",
    "\n",
    "# Load environment\n",
    "load_dotenv()\n",
    "\n",
    "# Import our LSTM components\n",
    "from config.settings import LSTMConfig, AstraDBConfig\n",
    "from core.gate_networks import LSTMGateNetwork\n",
    "from core.memory_manager import MemoryManager\n",
    "from models.memory_item import MemoryItem\n",
    "from models.rl_experience import RLExperience, RLState, RLAction, RLReward\n",
    "from database.astra_connector import AstraDBConnector\n",
    "from rl_training.gate_optimizer import GateOptimizer\n",
    "from rl_training.reward_calculator import RewardCalculator\n",
    "from utils.similarity import cosine_similarity\n",
    "from utils.token_counter import estimate_tokens\n",
    "\n",
    "# Validate environment\n",
    "DATABASE_ID = os.getenv('ASTRA_DATABASE_ID')\n",
    "REGION = os.getenv('ASTRA_REGION') \n",
    "TOKEN = os.getenv('ASTRA_TOKEN')\n",
    "KEYSPACE = os.getenv('ASTRA_KEYSPACE', 'memory_db')\n",
    "\n",
    "if not all([DATABASE_ID, REGION, TOKEN]):\n",
    "    raise ValueError(\"Missing Astra DB credentials in .env file!\")\n",
    "\n",
    "print(\"✅ All LSTM components imported successfully\")\n",
    "print(f\"🔗 Database: {DATABASE_ID}\")\n",
    "print(f\"🌍 Region: {REGION}\")\n",
    "print(f\"🔑 Keyspace: {KEYSPACE}\")"
   ]
  },
  {
   "cell_type": "code",
   "execution_count": 2,
   "id": "120fdd25",
   "metadata": {},
   "outputs": [
    {
     "name": "stderr",
     "output_type": "stream",
     "text": [
      "INFO:core.memory_manager:Initializing Memory Manager...\n",
      "INFO:database.astra_connector:Connecting to Astra DB: https://cb844ee7-37f7-453e-9ece-e0720040b3df-us-east1.apps.astra.datastax.com\n",
      "INFO:astrapy.data.database:findCollections\n",
      "INFO:httpx:HTTP Request: POST https://cb844ee7-37f7-453e-9ece-e0720040b3df-us-east1.apps.astra.datastax.com/api/json/v1/memory_db \"HTTP/1.1 200 OK\"\n",
      "INFO:astrapy.data.database:finished findCollections\n",
      "INFO:database.astra_connector:Found collections: []\n",
      "INFO:database.astra_connector:Successfully connected to Astra DB\n",
      "INFO:core.memory_manager:No existing gate network found, using fresh model\n",
      "INFO:core.memory_manager:Memory Manager initialized successfully\n"
     ]
    },
    {
     "name": "stdout",
     "output_type": "stream",
     "text": [
      "✅ LSTM system initialized successfully\n",
      "📊 Gate thresholds: {'forget': 0.30000001192092896, 'input': 0.4000000059604645, 'output': 0.4000000059604645}\n"
     ]
    }
   ],
   "source": [
    "# Cell 2: Initialize LSTM System\n",
    "async def initialize_lstm_system():\n",
    "    \"\"\"Initialize the complete LSTM memory system\"\"\"\n",
    "    \n",
    "    # Create configuration\n",
    "    config = LSTMConfig()\n",
    "    config.astra_db.endpoint = f\"https://{DATABASE_ID}-{REGION}.apps.astra.datastax.com\"\n",
    "    config.astra_db.token = TOKEN\n",
    "    config.astra_db.keyspace = KEYSPACE\n",
    "    \n",
    "    # Initialize memory manager\n",
    "    memory_manager = MemoryManager(config)\n",
    "    await memory_manager.initialize()\n",
    "    \n",
    "    # Initialize RL trainer\n",
    "    rl_trainer = GateOptimizer(\n",
    "        gate_network=memory_manager.gate_network,\n",
    "        learning_rate=0.001\n",
    "    )\n",
    "    \n",
    "    return memory_manager, rl_trainer, config\n",
    "\n",
    "# Run initialization\n",
    "memory_manager, rl_trainer, config = await initialize_lstm_system()\n",
    "print(\"✅ LSTM system initialized successfully\")\n",
    "print(f\"📊 Gate thresholds: {memory_manager.gate_network.get_thresholds()}\")"
   ]
  },
  {
   "cell_type": "code",
   "execution_count": 3,
   "id": "ce2589d9",
   "metadata": {},
   "outputs": [
    {
     "name": "stderr",
     "output_type": "stream",
     "text": [
      "INFO:core.memory_manager:Processing new entry for user test_user_123\n",
      "INFO:core.memory_manager:Input gate score: 0.353, decision: False\n",
      "INFO:core.memory_manager:Entry not important enough to create memory (score: 0.353)\n",
      "INFO:core.memory_manager:Processing new entry for user test_user_123\n",
      "INFO:core.memory_manager:Input gate score: 0.428, decision: True\n",
      "INFO:astrapy.data.collection:insertOne on 'memory_embeddings'\n"
     ]
    },
    {
     "name": "stdout",
     "output_type": "stream",
     "text": [
      "📝 Processing journal entries through LSTM gates...\n",
      "\n",
      "📖 Entry 1: 'I had an amazing meeting with Sarah today about th...'\n",
      "❌ Entry not stored (low importance)\n",
      "\n",
      "📖 Entry 2: 'Feeling stressed about the upcoming deadline. Need...'\n"
     ]
    },
    {
     "name": "stderr",
     "output_type": "stream",
     "text": [
      "INFO:httpx:HTTP Request: POST https://cb844ee7-37f7-453e-9ece-e0720040b3df-us-east1.apps.astra.datastax.com/api/json/v1/memory_db/memory_embeddings \"HTTP/1.1 200 OK\"\n",
      "INFO:astrapy.data.collection:finished insertOne on 'memory_embeddings'\n",
      "INFO:database.memory_store:Saved memory 07cb859e-b87f-4847-860e-cbd04f9fb68b for user test_user_123\n",
      "INFO:core.memory_manager:Created new memory: 07cb859e-b87f-4847-860e-cbd04f9fb68b\n",
      "INFO:core.memory_manager:Processing new entry for user test_user_123\n",
      "INFO:core.memory_manager:Input gate score: 0.489, decision: True\n",
      "INFO:astrapy.data.collection:insertOne on 'memory_embeddings'\n"
     ]
    },
    {
     "name": "stdout",
     "output_type": "stream",
     "text": [
      "✅ Memory created: emotion (importance: 0.428)\n",
      "\n",
      "📖 Entry 3: 'Learned something fascinating about neural network...'\n"
     ]
    },
    {
     "name": "stderr",
     "output_type": "stream",
     "text": [
      "INFO:httpx:HTTP Request: POST https://cb844ee7-37f7-453e-9ece-e0720040b3df-us-east1.apps.astra.datastax.com/api/json/v1/memory_db/memory_embeddings \"HTTP/1.1 200 OK\"\n",
      "INFO:astrapy.data.collection:finished insertOne on 'memory_embeddings'\n",
      "INFO:database.memory_store:Saved memory 8e554e1d-856f-4b56-b8e4-b7616c9d6eaa for user test_user_123\n",
      "INFO:core.memory_manager:Created new memory: 8e554e1d-856f-4b56-b8e4-b7616c9d6eaa\n",
      "INFO:core.memory_manager:Processing new entry for user test_user_123\n",
      "INFO:core.memory_manager:Input gate score: 0.387, decision: False\n",
      "INFO:core.memory_manager:Entry not important enough to create memory (score: 0.387)\n",
      "INFO:core.memory_manager:Processing new entry for user test_user_123\n",
      "INFO:core.memory_manager:Input gate score: 0.443, decision: True\n",
      "INFO:astrapy.data.collection:insertOne on 'memory_embeddings'\n"
     ]
    },
    {
     "name": "stdout",
     "output_type": "stream",
     "text": [
      "✅ Memory created: insight (importance: 0.489)\n",
      "\n",
      "📖 Entry 4: 'Had lunch with my friend. We talked about his new ...'\n",
      "❌ Entry not stored (low importance)\n",
      "\n",
      "📖 Entry 5: 'Dentist appointment tomorrow at 2pm. Really nervou...'\n"
     ]
    },
    {
     "name": "stderr",
     "output_type": "stream",
     "text": [
      "INFO:httpx:HTTP Request: POST https://cb844ee7-37f7-453e-9ece-e0720040b3df-us-east1.apps.astra.datastax.com/api/json/v1/memory_db/memory_embeddings \"HTTP/1.1 200 OK\"\n",
      "INFO:astrapy.data.collection:finished insertOne on 'memory_embeddings'\n",
      "INFO:database.memory_store:Saved memory b7c3aff9-1fb9-48af-b8fa-515cf47eb312 for user test_user_123\n",
      "INFO:core.memory_manager:Created new memory: b7c3aff9-1fb9-48af-b8fa-515cf47eb312\n"
     ]
    },
    {
     "name": "stdout",
     "output_type": "stream",
     "text": [
      "✅ Memory created: event (importance: 0.443)\n",
      "\n",
      "📊 Results: 3/5 entries became memories\n"
     ]
    }
   ],
   "source": [
    "# Cell 3: Test Memory Creation\n",
    "import random\n",
    "# Sample journal entries\n",
    "sample_entries = [\n",
    "    \"I had an amazing meeting with Sarah today about the new AI project. Super excited about the possibilities!\",\n",
    "    \"Feeling stressed about the upcoming deadline. Need to organize my time better.\",\n",
    "    \"Learned something fascinating about neural networks today. The attention mechanism is incredible.\",\n",
    "    \"Had lunch with my friend. We talked about his new job and he seems happy.\",\n",
    "    \"Dentist appointment tomorrow at 2pm. Really nervous about it.\"\n",
    "]\n",
    "\n",
    "# Process entries through LSTM system\n",
    "print(\"📝 Processing journal entries through LSTM gates...\")\n",
    "created_memories = []\n",
    "\n",
    "for i, entry in enumerate(sample_entries, 1):\n",
    "    print(f\"\\n📖 Entry {i}: '{entry[:50]}...'\")\n",
    "    \n",
    "    # Generate dummy feature vector (replace with Component 4)\n",
    "    feature_vector = [random.random() for _ in range(90)]\n",
    "    \n",
    "    # Generate dummy embeddings (replace with Component 3)  \n",
    "    embeddings = [random.random() for _ in range(768)]\n",
    "    \n",
    "    # Process through memory manager\n",
    "    memory = await memory_manager.process_new_entry(\n",
    "        user_id=\"test_user_123\",\n",
    "        feature_vector=feature_vector,\n",
    "        content=entry,\n",
    "        embeddings=embeddings\n",
    "    )\n",
    "    \n",
    "    if memory:\n",
    "        created_memories.append(memory)\n",
    "        print(f\"✅ Memory created: {memory.memory_type} (importance: {memory.importance_score:.3f})\")\n",
    "    else:\n",
    "        print(\"❌ Entry not stored (low importance)\")\n",
    "\n",
    "print(f\"\\n📊 Results: {len(created_memories)}/{len(sample_entries)} entries became memories\")"
   ]
  },
  {
   "cell_type": "code",
   "execution_count": 3,
   "id": "7f22ea14",
   "metadata": {},
   "outputs": [
    {
     "name": "stderr",
     "output_type": "stream",
     "text": [
      "INFO:core.memory_manager:Assembling context for user test_user_123\n",
      "INFO:astrapy.data.cursors.cursor:cursor fetching a page: (empty page state) from memory_embeddings\n"
     ]
    },
    {
     "name": "stdout",
     "output_type": "stream",
     "text": [
      "🔍 Testing memory context retrieval...\n",
      "\n",
      "❓ Query: 'How's work going?'\n"
     ]
    },
    {
     "name": "stderr",
     "output_type": "stream",
     "text": [
      "INFO:httpx:HTTP Request: POST https://cb844ee7-37f7-453e-9ece-e0720040b3df-us-east1.apps.astra.datastax.com/api/json/v1/memory_db/memory_embeddings \"HTTP/1.1 200 OK\"\n",
      "WARNING:astrapy.utils.api_commander:The Data API returned a warning: {'errorCode': 'IN_MEMORY_SORTING_DUE_TO_NON_PARTITION_SORTING', 'message': 'The command used columns in the sort clause that are not part of the partition sorting, and so the query was sorted in memory.\\n      \\nThe table memory_db.memory_embeddings has the partition sorting columns: [None].\\nThe command sorted on the columns: created_at.\\n\\nThe command was executed using in memory sorting rather than taking advantage of the partition sorting on disk. This can have performance implications on large tables.\\n\\nSee documentation for best practices for sorting.', 'family': 'REQUEST', 'scope': 'WARNING', 'title': 'Sorting by non partition sorting columns', 'id': '7f4314f9-c77c-4457-bc8c-3a4d99638414'}\n",
      "INFO:astrapy.data.cursors.cursor:cursor finished fetching a page: (empty page state) from memory_embeddings\n",
      "INFO:database.memory_store:Retrieved 3 memories for user test_user_123\n",
      "INFO:core.memory_manager:Filtered to 3 relevant memories\n",
      "INFO:astrapy.data.collection:updateOne on 'memory_embeddings'\n",
      "INFO:httpx:HTTP Request: POST https://cb844ee7-37f7-453e-9ece-e0720040b3df-us-east1.apps.astra.datastax.com/api/json/v1/memory_db/memory_embeddings \"HTTP/1.1 200 OK\"\n",
      "INFO:astrapy.data.collection:finished updateOne on 'memory_embeddings'\n",
      "INFO:astrapy.data.collection:updateOne on 'memory_embeddings'\n",
      "INFO:httpx:HTTP Request: POST https://cb844ee7-37f7-453e-9ece-e0720040b3df-us-east1.apps.astra.datastax.com/api/json/v1/memory_db/memory_embeddings \"HTTP/1.1 200 OK\"\n",
      "INFO:astrapy.data.collection:finished updateOne on 'memory_embeddings'\n",
      "INFO:astrapy.data.collection:updateOne on 'memory_embeddings'\n",
      "INFO:httpx:HTTP Request: POST https://cb844ee7-37f7-453e-9ece-e0720040b3df-us-east1.apps.astra.datastax.com/api/json/v1/memory_db/memory_embeddings \"HTTP/1.1 200 OK\"\n",
      "INFO:astrapy.data.collection:finished updateOne on 'memory_embeddings'\n",
      "INFO:core.memory_manager:Assembled context with 3 memories\n",
      "INFO:core.memory_manager:Assembling context for user test_user_123\n",
      "INFO:core.memory_manager:Filtered to 3 relevant memories\n",
      "INFO:astrapy.data.collection:updateOne on 'memory_embeddings'\n"
     ]
    },
    {
     "name": "stdout",
     "output_type": "stream",
     "text": [
      "🎯 Found 3 relevant memories\n",
      "📊 Metadata: {'query_tokens': 3, 'overhead_tokens': 200, 'available_tokens': 1297, 'memories_considered': 3, 'memories_selected': 3, 'token_utilization': 0.028, 'diversity_stats': {'emotion': 1, 'insight': 1, 'event': 1}, 'avg_relevance_score': 0.688806073864301, 'total_tokens_used': 42, 'reason': 'success'}\n",
      "   💭 emotion: Feeling stressed about the upcoming deadline. Need to organi...\n",
      "      Importance: 0.428\n",
      "   💭 insight: Learned something fascinating about neural networks today. T...\n",
      "      Importance: 0.489\n",
      "\n",
      "❓ Query: 'Tell me about AI'\n"
     ]
    },
    {
     "name": "stderr",
     "output_type": "stream",
     "text": [
      "INFO:httpx:HTTP Request: POST https://cb844ee7-37f7-453e-9ece-e0720040b3df-us-east1.apps.astra.datastax.com/api/json/v1/memory_db/memory_embeddings \"HTTP/1.1 200 OK\"\n",
      "INFO:astrapy.data.collection:finished updateOne on 'memory_embeddings'\n",
      "INFO:astrapy.data.collection:updateOne on 'memory_embeddings'\n",
      "INFO:httpx:HTTP Request: POST https://cb844ee7-37f7-453e-9ece-e0720040b3df-us-east1.apps.astra.datastax.com/api/json/v1/memory_db/memory_embeddings \"HTTP/1.1 200 OK\"\n",
      "INFO:astrapy.data.collection:finished updateOne on 'memory_embeddings'\n",
      "INFO:astrapy.data.collection:updateOne on 'memory_embeddings'\n",
      "INFO:httpx:HTTP Request: POST https://cb844ee7-37f7-453e-9ece-e0720040b3df-us-east1.apps.astra.datastax.com/api/json/v1/memory_db/memory_embeddings \"HTTP/1.1 200 OK\"\n",
      "INFO:astrapy.data.collection:finished updateOne on 'memory_embeddings'\n",
      "INFO:core.memory_manager:Assembled context with 3 memories\n",
      "INFO:core.memory_manager:Assembling context for user test_user_123\n",
      "INFO:core.memory_manager:Filtered to 3 relevant memories\n",
      "INFO:astrapy.data.collection:updateOne on 'memory_embeddings'\n"
     ]
    },
    {
     "name": "stdout",
     "output_type": "stream",
     "text": [
      "🎯 Found 3 relevant memories\n",
      "📊 Metadata: {'query_tokens': 4, 'overhead_tokens': 200, 'available_tokens': 1296, 'memories_considered': 3, 'memories_selected': 3, 'token_utilization': 0.028, 'diversity_stats': {'insight': 1, 'emotion': 1, 'event': 1}, 'avg_relevance_score': 0.698757673005263, 'total_tokens_used': 42, 'reason': 'success'}\n",
      "   💭 insight: Learned something fascinating about neural networks today. T...\n",
      "      Importance: 0.489\n",
      "   💭 emotion: Feeling stressed about the upcoming deadline. Need to organi...\n",
      "      Importance: 0.428\n",
      "\n",
      "❓ Query: 'Any upcoming appointments?'\n"
     ]
    },
    {
     "name": "stderr",
     "output_type": "stream",
     "text": [
      "INFO:httpx:HTTP Request: POST https://cb844ee7-37f7-453e-9ece-e0720040b3df-us-east1.apps.astra.datastax.com/api/json/v1/memory_db/memory_embeddings \"HTTP/1.1 200 OK\"\n",
      "INFO:astrapy.data.collection:finished updateOne on 'memory_embeddings'\n",
      "INFO:astrapy.data.collection:updateOne on 'memory_embeddings'\n",
      "INFO:httpx:HTTP Request: POST https://cb844ee7-37f7-453e-9ece-e0720040b3df-us-east1.apps.astra.datastax.com/api/json/v1/memory_db/memory_embeddings \"HTTP/1.1 200 OK\"\n",
      "INFO:astrapy.data.collection:finished updateOne on 'memory_embeddings'\n",
      "INFO:astrapy.data.collection:updateOne on 'memory_embeddings'\n",
      "INFO:httpx:HTTP Request: POST https://cb844ee7-37f7-453e-9ece-e0720040b3df-us-east1.apps.astra.datastax.com/api/json/v1/memory_db/memory_embeddings \"HTTP/1.1 200 OK\"\n",
      "INFO:astrapy.data.collection:finished updateOne on 'memory_embeddings'\n",
      "INFO:core.memory_manager:Assembled context with 3 memories\n",
      "INFO:core.memory_manager:Assembling context for user test_user_123\n",
      "INFO:core.memory_manager:Filtered to 3 relevant memories\n",
      "INFO:astrapy.data.collection:updateOne on 'memory_embeddings'\n"
     ]
    },
    {
     "name": "stdout",
     "output_type": "stream",
     "text": [
      "🎯 Found 3 relevant memories\n",
      "📊 Metadata: {'query_tokens': 4, 'overhead_tokens': 200, 'available_tokens': 1296, 'memories_considered': 3, 'memories_selected': 3, 'token_utilization': 0.028, 'diversity_stats': {'insight': 1, 'emotion': 1, 'event': 1}, 'avg_relevance_score': 0.7192286753654479, 'total_tokens_used': 42, 'reason': 'success'}\n",
      "   💭 insight: Learned something fascinating about neural networks today. T...\n",
      "      Importance: 0.489\n",
      "   💭 emotion: Feeling stressed about the upcoming deadline. Need to organi...\n",
      "      Importance: 0.428\n",
      "\n",
      "❓ Query: 'How am I feeling lately?'\n"
     ]
    },
    {
     "name": "stderr",
     "output_type": "stream",
     "text": [
      "INFO:httpx:HTTP Request: POST https://cb844ee7-37f7-453e-9ece-e0720040b3df-us-east1.apps.astra.datastax.com/api/json/v1/memory_db/memory_embeddings \"HTTP/1.1 200 OK\"\n",
      "INFO:astrapy.data.collection:finished updateOne on 'memory_embeddings'\n",
      "INFO:astrapy.data.collection:updateOne on 'memory_embeddings'\n",
      "INFO:httpx:HTTP Request: POST https://cb844ee7-37f7-453e-9ece-e0720040b3df-us-east1.apps.astra.datastax.com/api/json/v1/memory_db/memory_embeddings \"HTTP/1.1 200 OK\"\n",
      "INFO:astrapy.data.collection:finished updateOne on 'memory_embeddings'\n",
      "INFO:astrapy.data.collection:updateOne on 'memory_embeddings'\n",
      "INFO:httpx:HTTP Request: POST https://cb844ee7-37f7-453e-9ece-e0720040b3df-us-east1.apps.astra.datastax.com/api/json/v1/memory_db/memory_embeddings \"HTTP/1.1 200 OK\"\n",
      "INFO:astrapy.data.collection:finished updateOne on 'memory_embeddings'\n",
      "INFO:core.memory_manager:Assembled context with 3 memories\n"
     ]
    },
    {
     "name": "stdout",
     "output_type": "stream",
     "text": [
      "🎯 Found 3 relevant memories\n",
      "📊 Metadata: {'query_tokens': 5, 'overhead_tokens': 200, 'available_tokens': 1295, 'memories_considered': 3, 'memories_selected': 3, 'token_utilization': 0.028, 'diversity_stats': {'insight': 1, 'emotion': 1, 'event': 1}, 'avg_relevance_score': 0.7404099132617313, 'total_tokens_used': 42, 'reason': 'success'}\n",
      "   💭 insight: Learned something fascinating about neural networks today. T...\n",
      "      Importance: 0.489\n",
      "   💭 emotion: Feeling stressed about the upcoming deadline. Need to organi...\n",
      "      Importance: 0.428\n"
     ]
    }
   ],
   "source": [
    "# Cell 4: Test Context Retrieval with debugging\n",
    "import random\n",
    "print(\"🔍 Testing memory context retrieval...\")\n",
    "\n",
    "try:\n",
    "    # Test queries\n",
    "    test_queries = [\n",
    "        \"How's work going?\",\n",
    "        \"Tell me about AI\", \n",
    "        \"Any upcoming appointments?\",\n",
    "        \"How am I feeling lately?\"\n",
    "    ]\n",
    "    \n",
    "    for query in test_queries:\n",
    "        print(f\"\\n❓ Query: '{query}'\")\n",
    "        \n",
    "        # Generate query features (placeholder)\n",
    "        query_features = [random.random() for _ in range(90)]\n",
    "        \n",
    "        try:\n",
    "            # Get relevant context\n",
    "            relevant_memories, metadata = await memory_manager.get_relevant_context(\n",
    "                user_id=\"test_user_123\",\n",
    "                query=query,\n",
    "                query_features=query_features,\n",
    "                max_tokens=1500\n",
    "            )\n",
    "            \n",
    "            print(f\"🎯 Found {len(relevant_memories)} relevant memories\")\n",
    "            print(f\"📊 Metadata: {metadata}\")\n",
    "            \n",
    "            if relevant_memories:\n",
    "                for memory in relevant_memories[:2]:  # Show top 2\n",
    "                    print(f\"   💭 {memory.memory_type}: {memory.content_summary[:60]}...\")\n",
    "                    print(f\"      Importance: {memory.importance_score:.3f}\")\n",
    "        \n",
    "        except Exception as e:\n",
    "            print(f\"❌ Error processing query '{query}': {e}\")\n",
    "            import traceback\n",
    "            traceback.print_exc()\n",
    "            \n",
    "except Exception as e:\n",
    "    print(f\"❌ Critical error: {e}\")\n",
    "    import traceback\n",
    "    traceback.print_exc()"
   ]
  },
  {
   "cell_type": "code",
   "execution_count": 8,
   "id": "4faca723",
   "metadata": {},
   "outputs": [
    {
     "name": "stdout",
     "output_type": "stream",
     "text": [
      "🎯 Setting up RL Training...\n",
      "📥 Loading saved memories for RL training...\n",
      "✅ Found 3 saved memories for RL training\n",
      "🏆 Testing reward calculation...\n",
      "🎯 Interaction 1: Reward = 0.624\n",
      "   Engagement metrics: {'response_length': 63, 'session_duration_minutes': 12.523259519955204, 'has_follow_ups': True, 'user_initiated': True, 'memories_used': 3, 'context_satisfaction': 0.8445545450570942}\n",
      "🎯 Interaction 2: Reward = 0.674\n",
      "   Engagement metrics: {'response_length': 192, 'session_duration_minutes': 12.747808981692172, 'has_follow_ups': False, 'user_initiated': True, 'memories_used': 3, 'context_satisfaction': 0.6646805459455181}\n",
      "🎯 Interaction 3: Reward = 0.736\n",
      "   Engagement metrics: {'response_length': 178, 'session_duration_minutes': 4.289956892674086, 'has_follow_ups': True, 'user_initiated': True, 'memories_used': 3, 'context_satisfaction': 0.3118299114559478}\n",
      "✅ Reward calculation working\n"
     ]
    }
   ],
   "source": [
    "# Cell 5: RL Training Setup\n",
    "from typing import List,Dict\n",
    "print(\"🎯 Setting up RL Training...\")\n",
    "\n",
    "# Since created_memories from Cell 3 might not be available, let's get the actual memories\n",
    "# that were successfully saved to the database\n",
    "print(\"📥 Loading saved memories for RL training...\")\n",
    "\n",
    "try:\n",
    "    # Get the memories that were actually saved\n",
    "    saved_memories = await memory_manager._get_user_memories(\"test_user_123\")\n",
    "    print(f\"✅ Found {len(saved_memories)} saved memories for RL training\")\n",
    "    \n",
    "    if not saved_memories:\n",
    "        print(\"❌ No memories found! Make sure Cell 3 ran successfully first\")\n",
    "    \n",
    "except Exception as e:\n",
    "    print(f\"❌ Error loading memories: {e}\")\n",
    "    saved_memories = []\n",
    "\n",
    "# Continue with the rest of your RL training code, using saved_memories instead of created_memories\n",
    "def simulate_user_interaction(memories):\n",
    "    \"\"\"Simulate user interaction with memory context\"\"\"\n",
    "    return {\n",
    "        'response_length': random.randint(50, 200),\n",
    "        'session_duration_minutes': random.uniform(2, 15),\n",
    "        'has_follow_ups': random.choice([True, False]),\n",
    "        'user_initiated': random.choice([True, False]),\n",
    "        'memories_used': len(memories),\n",
    "        'context_satisfaction': random.uniform(0.3, 1.0)\n",
    "    }\n",
    "\n",
    "print(\"🏆 Testing reward calculation...\")\n",
    "\n",
    "for i in range(3):\n",
    "    # Simulate interaction - use saved_memories instead of created_memories\n",
    "    interaction_data = simulate_user_interaction(saved_memories[:3])\n",
    "    \n",
    "    # Calculate reward using our reward calculator\n",
    "    reward = reward_calc.calculate_simple_reward({\n",
    "        'user_engagement': random.uniform(0.4, 1.0),\n",
    "        'context_relevance': random.uniform(0.3, 1.0), \n",
    "        'memory_efficiency': random.uniform(0.5, 1.0),\n",
    "        'user_satisfaction': random.uniform(0.4, 1.0),\n",
    "        'conversation_quality': random.uniform(0.5, 1.0)\n",
    "    })\n",
    "    \n",
    "    print(f\"🎯 Interaction {i+1}: Reward = {reward:.3f}\")\n",
    "    print(f\"   Engagement metrics: {interaction_data}\")\n",
    "\n",
    "print(\"✅ Reward calculation working\")"
   ]
  },
  {
   "cell_type": "code",
   "execution_count": null,
   "id": "ec9db681",
   "metadata": {},
   "outputs": [],
   "source": []
  }
 ],
 "metadata": {
  "kernelspec": {
   "display_name": "Python 3",
   "language": "python",
   "name": "python3"
  },
  "language_info": {
   "codemirror_mode": {
    "name": "ipython",
    "version": 3
   },
   "file_extension": ".py",
   "mimetype": "text/x-python",
   "name": "python",
   "nbconvert_exporter": "python",
   "pygments_lexer": "ipython3",
   "version": "3.11.9"
  }
 },
 "nbformat": 4,
 "nbformat_minor": 5
}
